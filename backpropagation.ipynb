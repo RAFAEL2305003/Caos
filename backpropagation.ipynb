{
 "cells": [
  {
   "cell_type": "code",
   "execution_count": 24,
   "metadata": {
    "id": "sdPhvsYm1Lxm",
    "trusted": true
   },
   "outputs": [],
   "source": [
    "import numpy as np"
   ]
  },
  {
   "cell_type": "code",
   "execution_count": 25,
   "metadata": {
    "id": "HR2PCPva1Lxn",
    "trusted": true
   },
   "outputs": [],
   "source": [
    "# input and output data\n",
    "input = [[0, 0], [0, 1], [1, 0], [1, 1]]\n",
    "output = [[0], [1], [1], [0]]"
   ]
  },
  {
   "cell_type": "code",
   "execution_count": 26,
   "metadata": {
    "id": "5INlvklg1Lxo",
    "trusted": true
   },
   "outputs": [],
   "source": [
    "# amount of nodes in each layer\n",
    "input_size  = 2\n",
    "hidden_size = 2\n",
    "output_size = 1"
   ]
  },
  {
   "cell_type": "code",
   "execution_count": null,
   "metadata": {
    "id": "sJ1Of1BD1Lxo",
    "trusted": true
   },
   "outputs": [],
   "source": [
    "# wheights and bias\n",
    "input_to_hidden = np.random.randn(input_size, hidden_size)\n",
    "hidden_to_output = np.random.randn(hidden_size, output_size)\n",
    "bias_hidden = np.zeros((1, hidden_size))\n",
    "bias_output = np.zeros((1, output_size))"
   ]
  },
  {
   "cell_type": "code",
   "execution_count": 28,
   "metadata": {
    "id": "wSPVSPyE1Lxo",
    "trusted": true
   },
   "outputs": [],
   "source": [
    "# activation function\n",
    "def ReLU(x):\n",
    "    y = [[max(0, x[i][j]) for j in range(len(x[0]))] for i in range(len(x))]\n",
    "    return y\n",
    "\n",
    "def ReLU_derivative(x):\n",
    "    d_y = [[1 if x > 0 else (0 if x < 0 else None) for j in range(len(x[0]))] for i in range(len(x))]\n",
    "    return d_y"
   ]
  },
  {
   "cell_type": "code",
   "execution_count": 29,
   "metadata": {},
   "outputs": [],
   "source": [
    "def forward(input):\n",
    "    # from input to hidden layer\n",
    "    hidden_b = np.dot(input, input_to_hidden) + bias_hidden\n",
    "    hidden_a = ReLU(hidden_b)\n",
    "    # from hidden to output layer\n",
    "    output_a = np.dot(hidden_a, hidden_to_output) + bias_output\n",
    "    output_b = ReLU(output_a)\n",
    "    return output_b"
   ]
  },
  {
   "cell_type": "code",
   "execution_count": 30,
   "metadata": {
    "id": "CgO53vsj1Lxp",
    "trusted": true
   },
   "outputs": [],
   "source": [
    "# compute output layer error\n",
    "def SSD(output_f):\n",
    "    return np.subtract(output, output_f)"
   ]
  },
  {
   "cell_type": "code",
   "execution_count": null,
   "metadata": {
    "id": "7L8NN_xF1Lxp",
    "trusted": true
   },
   "outputs": [
    {
     "ename": "SyntaxError",
     "evalue": "incomplete input (2188134315.py, line 2)",
     "output_type": "error",
     "traceback": [
      "\u001b[0;36m  Cell \u001b[0;32mIn[31], line 2\u001b[0;36m\u001b[0m\n\u001b[0;31m    \u001b[0m\n\u001b[0m    ^\u001b[0m\n\u001b[0;31mSyntaxError\u001b[0m\u001b[0;31m:\u001b[0m incomplete input\n"
     ]
    }
   ],
   "source": [
    "def backward(error):\n",
    "    # output_d = ReLU_derivative()"
   ]
  },
  {
   "cell_type": "code",
   "execution_count": null,
   "metadata": {
    "id": "zh3YRfqZ1Lxq",
    "trusted": true
   },
   "outputs": [],
   "source": [
    "def train():\n",
    "    output_f = forward(input)\n",
    "    error = SSD(output_f)\n",
    "    backward(error)"
   ]
  },
  {
   "cell_type": "code",
   "execution_count": null,
   "metadata": {
    "colab": {
     "base_uri": "https://localhost:8080/"
    },
    "id": "M0HznMdU1Lxq",
    "outputId": "32af3719-c4ed-4f98-fd12-274b5c5b500e",
    "trusted": true
   },
   "outputs": [
    {
     "ename": "NameError",
     "evalue": "name 'forward' is not defined",
     "output_type": "error",
     "traceback": [
      "\u001b[0;31m---------------------------------------------------------------------------\u001b[0m",
      "\u001b[0;31mNameError\u001b[0m                                 Traceback (most recent call last)",
      "Cell \u001b[0;32mIn[23], line 1\u001b[0m\n\u001b[0;32m----> 1\u001b[0m \u001b[43mtrain\u001b[49m\u001b[43m(\u001b[49m\u001b[43m)\u001b[49m\n",
      "Cell \u001b[0;32mIn[22], line 2\u001b[0m, in \u001b[0;36mtrain\u001b[0;34m()\u001b[0m\n\u001b[1;32m      1\u001b[0m \u001b[38;5;28;01mdef\u001b[39;00m \u001b[38;5;21mtrain\u001b[39m():\n\u001b[0;32m----> 2\u001b[0m     output_f \u001b[38;5;241m=\u001b[39m \u001b[43mforward\u001b[49m(\u001b[38;5;28minput\u001b[39m)\n\u001b[1;32m      3\u001b[0m     error \u001b[38;5;241m=\u001b[39m MSE(output_f)\n\u001b[1;32m      4\u001b[0m     backward(error)\n",
      "\u001b[0;31mNameError\u001b[0m: name 'forward' is not defined"
     ]
    }
   ],
   "source": [
    "train()"
   ]
  }
 ],
 "metadata": {
  "colab": {
   "provenance": []
  },
  "kaggle": {
   "accelerator": "none",
   "dataSources": [],
   "dockerImageVersionId": 30918,
   "isGpuEnabled": false,
   "isInternetEnabled": false,
   "language": "python",
   "sourceType": "notebook"
  },
  "kernelspec": {
   "display_name": "Python 3",
   "language": "python",
   "name": "python3"
  },
  "language_info": {
   "codemirror_mode": {
    "name": "ipython",
    "version": 3
   },
   "file_extension": ".py",
   "mimetype": "text/x-python",
   "name": "python",
   "nbconvert_exporter": "python",
   "pygments_lexer": "ipython3",
   "version": "3.10.12"
  }
 },
 "nbformat": 4,
 "nbformat_minor": 0
}
