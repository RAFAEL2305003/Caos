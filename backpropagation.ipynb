{
 "cells": [
  {
   "cell_type": "code",
   "execution_count": 59,
   "metadata": {
    "id": "sdPhvsYm1Lxm",
    "trusted": true
   },
   "outputs": [],
   "source": [
    "import numpy as np"
   ]
  },
  {
   "cell_type": "code",
   "execution_count": null,
   "metadata": {
    "id": "HR2PCPva1Lxn",
    "trusted": true
   },
   "outputs": [],
   "source": [
    "class Backpropagation:\n",
    "    def __init__(self, i_size, h_size, o_size):\n",
    "        # input and output data\n",
    "        self.input = np.array([[0, 0], [0, 1], [1, 0], [1, 1]])\n",
    "        self.output = np.array([[0], [1], [1], [0]])\n",
    "\n",
    "        # amount of nodes in each layer\n",
    "        self.input_size = i_size\n",
    "        self.hidden_size = h_size\n",
    "        self.output_size = o_size\n",
    "\n",
    "        # weights and biases\n",
    "        self.input_to_hidden = np.random.randn(self.input_size, self.hidden_size)\n",
    "        self.hidden_to_output = np.random.randn(self.hidden_size, self.output_size)\n",
    "        self.bias_hidden = np.zeros((1, self.hidden_size))\n",
    "        self.bias_output = np.zeros((1, self.output_size))\n",
    "\n",
    "    # activation function\n",
    "    def ReLU(self, x):\n",
    "        y = np.maximum(0, x)\n",
    "        return y\n",
    "\n",
    "    def ReLU_derivative(self, x):\n",
    "        return np.where(x > 0, 1, 0)\n",
    "\n",
    "    def forward(self, input):\n",
    "        # from input to hidden layer\n",
    "        self.hidden_b = np.dot(input, self.input_to_hidden) + self.bias_hidden\n",
    "        self.hidden_a = self.ReLU(self.hidden_b)\n",
    "        # from hidden to output layer\n",
    "        self.output_a = np.dot(self.hidden_a, self.hidden_to_output) + self.bias_output\n",
    "        self.output_b = self.ReLU(self.output_a)\n",
    "        return self.output_b\n",
    "\n",
    "    # compute output layer error\n",
    "    def SSD(self, output_f):\n",
    "        return self.output - output_f\n",
    "\n",
    "    def backward(self):\n",
    "        output_d = self.ReLU_derivative(self.hidden_a) * self.error\n",
    "\n",
    "        \n",
    "    def train(self):\n",
    "        self.output_f = self.forward(self.input)\n",
    "        self.error = self.SSD(self.output_f)\n",
    "        self.backward()"
   ]
  },
  {
   "cell_type": "code",
   "execution_count": 61,
   "metadata": {
    "colab": {
     "base_uri": "https://localhost:8080/"
    },
    "id": "M0HznMdU1Lxq",
    "outputId": "32af3719-c4ed-4f98-fd12-274b5c5b500e",
    "trusted": true
   },
   "outputs": [
    {
     "name": "stdout",
     "output_type": "stream",
     "text": [
      "1\n"
     ]
    }
   ],
   "source": [
    "bp = Backpropagation(2, 2, 1)\n",
    "bp.train()"
   ]
  }
 ],
 "metadata": {
  "colab": {
   "provenance": []
  },
  "kaggle": {
   "accelerator": "none",
   "dataSources": [],
   "dockerImageVersionId": 30918,
   "isGpuEnabled": false,
   "isInternetEnabled": false,
   "language": "python",
   "sourceType": "notebook"
  },
  "kernelspec": {
   "display_name": "Python 3",
   "language": "python",
   "name": "python3"
  },
  "language_info": {
   "codemirror_mode": {
    "name": "ipython",
    "version": 3
   },
   "file_extension": ".py",
   "mimetype": "text/x-python",
   "name": "python",
   "nbconvert_exporter": "python",
   "pygments_lexer": "ipython3",
   "version": "3.10.12"
  }
 },
 "nbformat": 4,
 "nbformat_minor": 0
}
